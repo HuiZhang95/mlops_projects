{
 "cells": [
  {
   "cell_type": "code",
   "execution_count": 11,
   "metadata": {},
   "outputs": [
    {
     "name": "stdout",
     "output_type": "stream",
     "text": [
      "Collecting scikit-learn\n",
      "  Using cached scikit_learn-1.3.2-cp38-cp38-manylinux_2_17_x86_64.manylinux2014_x86_64.whl (11.1 MB)\n",
      "Requirement already satisfied: joblib>=1.1.1 in /home/ubuntu/.local/lib/python3.8/site-packages (from scikit-learn) (1.4.2)\n",
      "Requirement already satisfied: numpy<2.0,>=1.17.3 in /home/ubuntu/.local/lib/python3.8/site-packages (from scikit-learn) (1.24.4)\n",
      "Collecting scipy>=1.5.0\n",
      "  Using cached scipy-1.10.1-cp38-cp38-manylinux_2_17_x86_64.manylinux2014_x86_64.whl (34.5 MB)\n",
      "Collecting threadpoolctl>=2.0.0\n",
      "  Using cached threadpoolctl-3.5.0-py3-none-any.whl (18 kB)\n",
      "Installing collected packages: scipy, threadpoolctl, scikit-learn\n",
      "Successfully installed scikit-learn-1.3.2 scipy-1.10.1 threadpoolctl-3.5.0\n",
      "Note: you may need to restart the kernel to use updated packages.\n"
     ]
    }
   ],
   "source": [
    "pip install scikit-learn"
   ]
  },
  {
   "cell_type": "code",
   "execution_count": 1,
   "metadata": {},
   "outputs": [],
   "source": [
    "from fastapi import FastAPI\n",
    "from pydantic import BaseModel\n",
    "import pandas as pd\n",
    "import os\n",
    "from joblib import load\n",
    "import glob\n",
    "import os"
   ]
  },
  {
   "cell_type": "code",
   "execution_count": 2,
   "metadata": {},
   "outputs": [
    {
     "name": "stdout",
     "output_type": "stream",
     "text": [
      "/home/ubuntu/MLOps_accidents/src/api\n",
      "/home/ubuntu/MLOps_accidents\n",
      "/home/ubuntu/MLOps_accidents/models\n"
     ]
    }
   ],
   "source": [
    "# Construct the path to the 'trained_models' directory\n",
    "# Get the path to the project root directory\n",
    "current_dir = os.getcwd()\n",
    "print(current_dir)\n",
    "project_root = os.path.abspath(os.path.join(current_dir, '..', '..'))\n",
    "print(project_root)\n",
    "# Construct the path to the 'trained_models' directory\n",
    "trained_models_dir = os.path.join(project_root, 'models')\n",
    "print(trained_models_dir )\n",
    "# Specify the base filename of the trained model\n",
    "base_joblib_filename = 'model_best_rf'\n"
   ]
  },
  {
   "cell_type": "code",
   "execution_count": 3,
   "metadata": {},
   "outputs": [
    {
     "name": "stdout",
     "output_type": "stream",
     "text": [
      "/home/ubuntu/MLOps_accidents/models/model_best_rf-v*-*.joblib\n"
     ]
    },
    {
     "data": {
      "text/plain": [
       "['/home/ubuntu/MLOps_accidents/models/model_best_rf-v1-20250214.joblib']"
      ]
     },
     "execution_count": 3,
     "metadata": {},
     "output_type": "execute_result"
    }
   ],
   "source": [
    "search_pattern = f\"{base_joblib_filename}-v*-*.joblib\"\n",
    "datapath = os.path.join(trained_models_dir, search_pattern)\n",
    "print(datapath)\n",
    "files = glob.glob(datapath)\n",
    "files"
   ]
  },
  {
   "cell_type": "code",
   "execution_count": 4,
   "metadata": {},
   "outputs": [],
   "source": [
    "def find_latest_versioned_model(base_filename):\n",
    "    \"\"\"\n",
    "    Find the latest versioned model file based on base_filename.\n",
    "    Returns the path to the latest versioned model file.\n",
    "    \"\"\"\n",
    "    search_pattern = f\"{base_filename}-v*-*.joblib\"\n",
    "    files = glob.glob(os.path.join(trained_models_dir, search_pattern))\n",
    "\n",
    "    if not files:\n",
    "        raise FileNotFoundError(f\"No model files found with pattern '{search_pattern}'\")\n",
    "\n",
    "    latest_file = max(files, key=os.path.getctime)\n",
    "    return latest_file"
   ]
  },
  {
   "cell_type": "code",
   "execution_count": 5,
   "metadata": {},
   "outputs": [
    {
     "data": {
      "text/plain": [
       "'/home/ubuntu/MLOps_accidents/models/model_best_rf-v1-20250214.joblib'"
      ]
     },
     "execution_count": 5,
     "metadata": {},
     "output_type": "execute_result"
    }
   ],
   "source": [
    "find_latest_versioned_model(base_joblib_filename)"
   ]
  },
  {
   "cell_type": "code",
   "execution_count": 6,
   "metadata": {},
   "outputs": [
    {
     "name": "stderr",
     "output_type": "stream",
     "text": [
      "/home/ubuntu/.local/lib/python3.8/site-packages/sklearn/base.py:348: InconsistentVersionWarning: Trying to unpickle estimator DecisionTreeClassifier from version 1.5.0 when using version 1.3.2. This might lead to breaking code or invalid results. Use at your own risk. For more info please refer to:\n",
      "https://scikit-learn.org/stable/model_persistence.html#security-maintainability-limitations\n",
      "  warnings.warn(\n",
      "/home/ubuntu/.local/lib/python3.8/site-packages/sklearn/base.py:348: InconsistentVersionWarning: Trying to unpickle estimator RandomForestClassifier from version 1.5.0 when using version 1.3.2. This might lead to breaking code or invalid results. Use at your own risk. For more info please refer to:\n",
      "https://scikit-learn.org/stable/model_persistence.html#security-maintainability-limitations\n",
      "  warnings.warn(\n"
     ]
    },
    {
     "name": "stdout",
     "output_type": "stream",
     "text": [
      "Loaded model from /home/ubuntu/MLOps_accidents/models/model_best_rf-v1-20250214.joblib\n"
     ]
    },
    {
     "name": "stderr",
     "output_type": "stream",
     "text": [
      "/home/ubuntu/.local/lib/python3.8/site-packages/sklearn/base.py:348: InconsistentVersionWarning: Trying to unpickle estimator RandomizedSearchCV from version 1.5.0 when using version 1.3.2. This might lead to breaking code or invalid results. Use at your own risk. For more info please refer to:\n",
      "https://scikit-learn.org/stable/model_persistence.html#security-maintainability-limitations\n",
      "  warnings.warn(\n"
     ]
    }
   ],
   "source": [
    "try:\n",
    "    joblib_file_path = find_latest_versioned_model(base_joblib_filename)\n",
    "    model = load(joblib_file_path)\n",
    "    print(f\"Loaded model from {joblib_file_path}\")\n",
    "except Exception as e:\n",
    "    print(f\"Error loading model: {str(e)}\")\n",
    "    model = None"
   ]
  },
  {
   "cell_type": "code",
   "execution_count": 12,
   "metadata": {},
   "outputs": [
    {
     "ename": "AttributeError",
     "evalue": "'dict' object has no attribute 'model_dump'",
     "output_type": "error",
     "traceback": [
      "\u001b[0;31m---------------------------------------------------------------------------\u001b[0m",
      "\u001b[0;31mAttributeError\u001b[0m                            Traceback (most recent call last)",
      "Cell \u001b[0;32mIn[12], line 31\u001b[0m\n\u001b[1;32m      1\u001b[0m tmpData \u001b[38;5;241m=\u001b[39m {\n\u001b[1;32m      2\u001b[0m     \u001b[38;5;124m\"\u001b[39m\u001b[38;5;124mplace\u001b[39m\u001b[38;5;124m\"\u001b[39m: [\u001b[38;5;241m0\u001b[39m],\n\u001b[1;32m      3\u001b[0m     \u001b[38;5;124m\"\u001b[39m\u001b[38;5;124mcatu\u001b[39m\u001b[38;5;124m\"\u001b[39m: [\u001b[38;5;241m0\u001b[39m],\n\u001b[0;32m   (...)\u001b[0m\n\u001b[1;32m     29\u001b[0m     \u001b[38;5;124m\"\u001b[39m\u001b[38;5;124mnb_vehicules\u001b[39m\u001b[38;5;124m\"\u001b[39m: [\u001b[38;5;241m0\u001b[39m]\n\u001b[1;32m     30\u001b[0m }\n\u001b[0;32m---> 31\u001b[0m df \u001b[38;5;241m=\u001b[39m pd\u001b[38;5;241m.\u001b[39mDataFrame([\u001b[43mtmpData\u001b[49m\u001b[38;5;241;43m.\u001b[39;49m\u001b[43mmodel_dump\u001b[49m()])\n\u001b[1;32m     32\u001b[0m df\n",
      "\u001b[0;31mAttributeError\u001b[0m: 'dict' object has no attribute 'model_dump'"
     ]
    }
   ],
   "source": [
    "tmpData = {\n",
    "    \"place\": [0],\n",
    "    \"catu\": [0],\n",
    "    \"sexe\": [0],\n",
    "    \"secu1\": [0],\n",
    "    \"year_acc\": [0],\n",
    "    \"victim_age\": [0],\n",
    "    \"catv\": [0],\n",
    "    \"obsm\": [0],\n",
    "    \"motor\": [0],\n",
    "    \"catr\": [0],\n",
    "    \"circ\": [0],\n",
    "    \"surf\": [0],\n",
    "    \"situ\": [0],\n",
    "    \"vma\": [0],\n",
    "    \"jour\": [0],\n",
    "    \"mois\": [0],\n",
    "    \"lum\": [0],\n",
    "    \"dep\": [0],\n",
    "    \"com\": [0],\n",
    "    \"agg_\": [0],\n",
    "    \"int_\": [0],\n",
    "    \"atm\": [0],\n",
    "    \"col\": [0],\n",
    "    \"lat\": [0],\n",
    "    \"long\": [0],\n",
    "    \"hour\": [0],\n",
    "    \"nb_victim\": [0],\n",
    "    \"nb_vehicules\": [0]\n",
    "}\n",
    "df = pd.DataFrame([tmpData.model_dump()])\n",
    "df"
   ]
  },
  {
   "cell_type": "code",
   "execution_count": 8,
   "metadata": {},
   "outputs": [],
   "source": [
    "tmpData = pd.read_csv('/home/ubuntu/MLOps_accidents/data/preprocessed/X_test.csv')"
   ]
  },
  {
   "cell_type": "code",
   "execution_count": 11,
   "metadata": {},
   "outputs": [
    {
     "data": {
      "text/plain": [
       "array([0, 1, 0, ..., 0, 1, 0])"
      ]
     },
     "execution_count": 11,
     "metadata": {},
     "output_type": "execute_result"
    }
   ],
   "source": [
    "probabilities = model.predict_proba(tmpData)[:, 1] \n",
    "yhat = (probabilities > 0.5).astype(int)\n",
    "yhat"
   ]
  }
 ],
 "metadata": {
  "kernelspec": {
   "display_name": "Python 3",
   "language": "python",
   "name": "python3"
  },
  "language_info": {
   "codemirror_mode": {
    "name": "ipython",
    "version": 3
   },
   "file_extension": ".py",
   "mimetype": "text/x-python",
   "name": "python",
   "nbconvert_exporter": "python",
   "pygments_lexer": "ipython3",
   "version": "3.8.10"
  }
 },
 "nbformat": 4,
 "nbformat_minor": 2
}
